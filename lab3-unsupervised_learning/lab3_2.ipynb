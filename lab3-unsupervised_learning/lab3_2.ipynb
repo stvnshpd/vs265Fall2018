{
 "cells": [
  {
   "cell_type": "markdown",
   "metadata": {},
   "source": [
    "<img src=\"./img/vs265header.svg\"/>"
   ]
  },
  {
   "cell_type": "markdown",
   "metadata": {},
   "source": [
    "<h1 align=\"center\">Lab 3 - Unsupervised Learning </h1>\n",
    "\n",
    "<h2 align=\"center\"> Part 2 - Faces <font color=\"red\"> [OPTIONAL] </font> </h2>"
   ]
  },
  {
   "cell_type": "code",
   "execution_count": null,
   "metadata": {
    "collapsed": true
   },
   "outputs": [],
   "source": [
    "%pylab inline\n",
    "\n",
    "import utils.lab3utils as util\n",
    "\n",
    "faces = np.load('./data/yalefaces.npz')['faces'].T"
   ]
  },
  {
   "cell_type": "markdown",
   "metadata": {
    "collapsed": true
   },
   "source": [
    "## Eigenfaces"
   ]
  },
  {
   "cell_type": "markdown",
   "metadata": {},
   "source": [
    "The file `data/yalefaces.npz` is used in this problem. It contains the Yale Faces Database, a collection of close-cropped pictures of faces. There are fifteen individuals in the database, each making eight facial expressions.\n",
    "\n",
    "The data comes in as a 3965x120 array. Each column contains an image of a face. You must reshape the 3965x1 column vector into a 61x65 matrix to make it an image. For example, to view the first 32 faces, run the code in the cell below.\n",
    "\n",
    "**Handy JuPyter Tip**: You can single-click the area to the left of the output to switch between a fixed-size output and a scrolling output. You can also double-click the same area to collapse the output entirely. This is useful for situations like this one where you have an output that takes up a lot of screen real estate."
   ]
  },
  {
   "cell_type": "code",
   "execution_count": null,
   "metadata": {
    "collapsed": true,
    "scrolled": false
   },
   "outputs": [],
   "source": [
    "plt.figure(figsize=(12,20))\n",
    "\n",
    "N = faces.shape[1] # Replace with 'faces.shape[1]' to view the whole dataset.\n",
    "\n",
    "numCols = 4\n",
    "numRows = N//numCols+((N%numCols)>0); #compute the grid shape from N\n",
    "\n",
    "for i in range(N):\n",
    "    faceColumn = faces[:,i]\n",
    "    faceImage = util.faceReshape(faceColumn)\n",
    "    \n",
    "    plt.subplot(numRows,numCols,i+1)\n",
    "    \n",
    "    util.facePlot(faceImage)"
   ]
  },
  {
   "cell_type": "markdown",
   "metadata": {},
   "source": [
    "### The Average Face"
   ]
  },
  {
   "cell_type": "markdown",
   "metadata": {},
   "source": [
    "Compute the average face and take a look at it by plotting it with `util.facePlot`. The function `util.faceInitialize` below will subtract this face from the data before running `sangerLearn`. Why do we need to do this? (Hint: check out p201 of Hertz, Krogh, and Palmer)."
   ]
  },
  {
   "cell_type": "code",
   "execution_count": null,
   "metadata": {
    "collapsed": true,
    "scrolled": true
   },
   "outputs": [],
   "source": [
    "averageFace =  # YOUR CODE HERE\n",
    "util.facePlot(util.faceReshape(averageFace));"
   ]
  },
  {
   "cell_type": "markdown",
   "metadata": {},
   "source": []
  },
  {
   "cell_type": "markdown",
   "metadata": {},
   "source": [
    "### Sanger's Rule for Faces"
   ]
  },
  {
   "cell_type": "markdown",
   "metadata": {},
   "source": [
    "Use Sanger's Rule to learn the first four (or more if you like) principal components of the data (the so-called \"eigenfaces\"). Show what these look like (perhaps by using `util.facePlot`). You should be able to use the exact same `sangerLearn` code from the first half of the problem set."
   ]
  },
  {
   "cell_type": "code",
   "execution_count": null,
   "metadata": {
    "collapsed": true
   },
   "outputs": [],
   "source": [
    "numOutputs = 6 # how many PCs should we find?\n",
    "learningRate = 1e-8 # decrease this value if you get a Warning: converting a masked element to nan.\n",
    "faces, weights = util.faceInitialize(faces, numOutputs=numOutputs)"
   ]
  },
  {
   "cell_type": "code",
   "execution_count": null,
   "metadata": {
    "collapsed": true
   },
   "outputs": [],
   "source": [
    "def sangerLearn():\n",
    "    return   # COPY YOUR SOLUTION FROM lab3_1"
   ]
  },
  {
   "cell_type": "code",
   "execution_count": null,
   "metadata": {
    "collapsed": true
   },
   "outputs": [],
   "source": [
    "numSteps = 2500 #increase if you want to find more PCs (takes awhile!)\n",
    "\n",
    "for i in range(numSteps):\n",
    "    weights = sangerLearn(faces,weights,learningRate)"
   ]
  },
  {
   "cell_type": "code",
   "execution_count": null,
   "metadata": {
    "collapsed": true
   },
   "outputs": [],
   "source": [
    "plt.figure(figsize=(20,6))\n",
    "\n",
    "for i in range(numOutputs):\n",
    "    plt.subplot(2,numOutputs,i+1)\n",
    "    util.facePlot(util.faceReshape(weights[:,i]))\n",
    "    plt.subplot(2,numOutputs,i+1+numOutputs)\n",
    "    util.facePlot(-1*util.faceReshape(weights[:,i]))"
   ]
  },
  {
   "cell_type": "markdown",
   "metadata": {},
   "source": [
    "### Dimensionality Reduction"
   ]
  },
  {
   "cell_type": "markdown",
   "metadata": {},
   "source": [
    "Plot each face as a point in the two-dimensional space spanned by the first two PC’s.\n",
    "We obtain the coordinates of those points by projecting each face into that space.\n",
    "\n",
    "Use the provided color list to plot a differently colored marker for each individual. Note that there are eight poses per individual, there are fifteen individuals, and they're arranged in order.\n",
    "\n",
    "What would this projection look like for Gaussian data?"
   ]
  },
  {
   "cell_type": "markdown",
   "metadata": {},
   "source": []
  },
  {
   "cell_type": "code",
   "execution_count": null,
   "metadata": {
    "collapsed": true
   },
   "outputs": [],
   "source": [
    "colorList = ['red','orange','yellow','blue','black','brown','gray',\n",
    "             'skyblue','tomato','mediumspringgreen',\n",
    "            'plum','darkcyan','indigo','darkolivegreen','hotpink']\n",
    "\n",
    "numPoses = 8\n",
    "numFaces = faces.shape[1]\n",
    "numIndividuals = numFaces//numPoses #floor division"
   ]
  },
  {
   "cell_type": "code",
   "execution_count": null,
   "metadata": {
    "collapsed": true
   },
   "outputs": [],
   "source": [
    "plt.figure(figsize=(12, 8))\n",
    "\n",
    "projectionVectors = # YOUR CODE HERE - two vectors onto which we project\n",
    "\n",
    "for i in range(numIndividuals):\n",
    "    startIndex = i*numPoses; endIndex = startIndex+numPoses\n",
    "    faceColumns = faces[:, startIndex:endIndex]\n",
    "    projection = # YOUR CODE HERE - compute dot product of each face with each projectionVector\n",
    "    plt.scatter(projection[0, :], projection[1, :], color=colorList[i])\n",
    "\n",
    "plt.title('Projection of Faces onto the First Two Principal Components')\n",
    "plt.xlabel('PC1 Projection'); plt.ylabel('PC2 Projection');"
   ]
  },
  {
   "cell_type": "markdown",
   "metadata": {},
   "source": [
    "### Reconstruction"
   ]
  },
  {
   "cell_type": "markdown",
   "metadata": {},
   "source": [
    "Pick a face and show what the reconstructions look like as you reconstruct with progressively more principal components. Remember to add back in the mean face before you reconstruct. If the first face you pick doesn't work, try several different faces. If your reconstructions are bad, you might also want to go back and learn more PCs (say, 8)."
   ]
  },
  {
   "cell_type": "code",
   "execution_count": null,
   "metadata": {
    "collapsed": true
   },
   "outputs": [],
   "source": [
    "faceIndex = 102\n",
    "\n",
    "faceColumn = faces[:, faceIndex, None] #keeps column shape\n",
    "\n",
    "maxComponents = weights.shape[1]\n",
    "\n",
    "plt.figure(figsize=(20,4))\n",
    "\n",
    "for i in range(maxComponents):\n",
    "    projectionVectors = weights[:, 0:i+1] #weight vectors are projection vectors\n",
    "    projection = projectionVectors.T @ faceColumn #get projection coordinates as before\n",
    "    \n",
    "    #now, return to the coordinates in the full face-space by \"up-projecting\"\n",
    "    reconstruction = (projectionVectors @ projection) + averageFace[:, None] \n",
    "\n",
    "    if maxComponents > 4:\n",
    "        plt.subplot(2, maxComponents//2, i+1)\n",
    "    else:\n",
    "        plt.subplot(1, maxComponents, i+1)\n",
    "    util.facePlot(util.faceReshape(reconstruction))"
   ]
  },
  {
   "cell_type": "markdown",
   "metadata": {},
   "source": [
    "### Winner-Take-All Learning"
   ]
  },
  {
   "cell_type": "markdown",
   "metadata": {},
   "source": [
    "Now train a WTA network on the faces data. You should experiment\n",
    "with different numbers of units. Do the learned weight vectors appear any more\n",
    "meaningful than those learned by PCA?\n",
    "\n",
    "A side note for those familiar with the K-means clustering algorithm: the WTA network learning\n",
    "rule basically performs stochastic gradient descent on the same objective\n",
    "function as K-means. See the discussion on page 222 of Hertz, Krogh, and Palmer."
   ]
  },
  {
   "cell_type": "markdown",
   "metadata": {},
   "source": []
  },
  {
   "cell_type": "code",
   "execution_count": null,
   "metadata": {
    "collapsed": true
   },
   "outputs": [],
   "source": [
    "def WTALearn():\n",
    "    return  # COPY YOUR WTALearn() from lab3_1 here"
   ]
  },
  {
   "cell_type": "code",
   "execution_count": null,
   "metadata": {
    "collapsed": true
   },
   "outputs": [],
   "source": [
    "# run this block once each time you want to train a new WTA network\n",
    "\n",
    "numOutputs = 15; learningRate = 1\n",
    "\n",
    "faces, weights = util.faceInitialize(faces, numOutputs=numOutputs)"
   ]
  },
  {
   "cell_type": "code",
   "execution_count": null,
   "metadata": {
    "collapsed": true
   },
   "outputs": [],
   "source": [
    "# you can run this block more than once to train the same network more\n",
    "\n",
    "numSteps = 1000\n",
    "\n",
    "for i in range(numSteps):\n",
    "    weights = WTALearn(faces, weights, learningRate)"
   ]
  },
  {
   "cell_type": "code",
   "execution_count": null,
   "metadata": {
    "collapsed": true
   },
   "outputs": [],
   "source": [
    "plt.figure(figsize=(20,8))\n",
    "normalizingConstant = np.sqrt(np.sum(np.square(averageFace)))\n",
    "\n",
    "for i in range(numOutputs):\n",
    "    if numOutputs >= 8:\n",
    "        plt.subplot(2, numOutputs//2+numOutputs%2, i+1)\n",
    "    else:\n",
    "        plt.subplot(1, numOutputs, i+1)\n",
    "    util.facePlot(util.faceReshape(normalizingConstant * weights[:,i] + averageFace))"
   ]
  }
 ],
 "metadata": {
  "kernelspec": {
   "display_name": "tres",
   "language": "python",
   "name": "python3"
  },
  "language_info": {
   "codemirror_mode": {
    "name": "ipython",
    "version": 3
   },
   "file_extension": ".py",
   "mimetype": "text/x-python",
   "name": "python",
   "nbconvert_exporter": "python",
   "pygments_lexer": "ipython3",
   "version": "3.7.0"
  }
 },
 "nbformat": 4,
 "nbformat_minor": 1
}
