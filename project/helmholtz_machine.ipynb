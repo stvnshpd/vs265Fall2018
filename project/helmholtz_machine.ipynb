{
 "cells": [
  {
   "cell_type": "code",
   "execution_count": 1,
   "metadata": {
    "collapsed": true
   },
   "outputs": [],
   "source": [
    "import os\n",
    "import six.moves.cPickle as pickle\n",
    "import gzip\n",
    "import numpy as np\n",
    "import theano\n",
    "import theano.tensor as T\n",
    "from theano.tensor.nnet import conv2d, conv2d_transpose\n",
    "from theano.tensor.signal import pool\n",
    "from theano.sandbox.rng_mrg import MRG_RandomStreams as RandomStreams\n",
    "theano.config.optimizer='fast_compile'\n",
    "theano.config.exception_verbosity='high'\n",
    "theano.config.compute_test_value = 'off'\n",
    "theano.config.floatX = 'float32'\n",
    "import matplotlib.pyplot as plt\n",
    "from IPython.display import display, clear_output"
   ]
  },
  {
   "cell_type": "code",
   "execution_count": 2,
   "metadata": {
    "collapsed": true
   },
   "outputs": [],
   "source": [
    "# create shared variables for using gpu\n",
    "def shared_dataset(data, borrow=True, data_types=['float32','int32']):\n",
    "    if type(data) is not list:\n",
    "        data = list(data)\n",
    "    output = []\n",
    "    for i, x in enumerate(data):\n",
    "        output.append(theano.shared(np.asarray(x, dtype=data_types[i]), borrow=borrow))\n",
    "    return output\n",
    "\n",
    "def load_dataset(dataset):\n",
    "    # get path/file for dataset\n",
    "    data_dir, data_file = os.path.split(dataset)\n",
    "    if data_dir == \"\" and not os.path.isfile(dataset):\n",
    "        # Check if dataset is in the current directory.\n",
    "        new_path = os.path.join(os.curdir, dataset)\n",
    "        if os.path.isfile(new_path) or data_file == 'mnist.pkl.gz':\n",
    "            dataset = new_path\n",
    "    # download from website\n",
    "    if (not os.path.isfile(dataset)) and data_file == 'mnist.pkl.gz':\n",
    "        from six.moves import urllib\n",
    "        origin = ('http://www.iro.umontreal.ca/~lisa/deep/data/mnist/mnist.pkl.gz')\n",
    "        print('Downloading data from %s' % origin)\n",
    "        urllib.request.urlretrieve(origin, dataset)\n",
    "    # load from pickle\n",
    "    print('... loading data')\n",
    "    with gzip.open(dataset, 'rb') as f:\n",
    "        try:\n",
    "            train_set, valid_set, test_set = pickle.load(f, encoding='latin1')\n",
    "        except:\n",
    "            train_set, valid_set, test_set = pickle.load(f)\n",
    "    # set test/valid/train sets\n",
    "    test_set_x, test_set_y = shared_dataset(test_set)\n",
    "    valid_set_x, valid_set_y = shared_dataset(valid_set)\n",
    "    train_set_x, train_set_y = shared_dataset(train_set)\n",
    "    # combine datasets\n",
    "    rval = [(train_set_x, train_set_y), (valid_set_x, valid_set_y), (test_set_x, test_set_y)]\n",
    "    return rval"
   ]
  },
  {
   "cell_type": "code",
   "execution_count": 538,
   "metadata": {
    "collapsed": false
   },
   "outputs": [],
   "source": [
    "class HelmholtzLayer(object):\n",
    "    '''WRITEME'''\n",
    "    def __init__(self, input, n_in, n_out, th_rng=None, top_layer=False):\n",
    "        # init vars\n",
    "        self.input = input\n",
    "        self.n_in = n_in\n",
    "        self.n_out = n_out\n",
    "        # init th_rng if None\n",
    "        if th_rng is None:\n",
    "            self.th_rng = RandomStreams(1)\n",
    "        else:\n",
    "            self.th_rng = th_rng\n",
    "        self.top_layer = top_layer\n",
    "        \n",
    "        # recognition weights\n",
    "        self.WR = theano.shared(np.zeros((n_in,n_out), dtype=theano.config.floatX),\n",
    "                                borrow=True, name='WR')\n",
    "        # recognition biases\n",
    "        self.bR = theano.shared(np.zeros((n_out,), dtype=theano.config.floatX), \n",
    "                                borrow=True, name='bR')\n",
    "        # generative weights\n",
    "        self.WG = theano.shared(np.zeros((n_out,n_in), dtype=theano.config.floatX),\n",
    "                                borrow=True, name='WG')\n",
    "        # generative biases\n",
    "        self.bG = theano.shared(np.zeros((n_in,), dtype=theano.config.floatX),\n",
    "                                borrow=True, name='bG')\n",
    "        \n",
    "        # if top_layer, remove shared WR, bR, WG\n",
    "        if self.top_layer:\n",
    "            self.WR = T.zeros_like(self.WR)\n",
    "            self.bR = T.zeros_like(self.bR)\n",
    "            self.WG = T.zeros_like(self.WG)\n",
    "            # set gen_params, rec_params\n",
    "            self.gen_params = [self.bG]\n",
    "            self.rec_params = []\n",
    "        else:\n",
    "            # set gen_params, rec_params\n",
    "            self.gen_params = [self.WG, self.bG]\n",
    "            self.rec_params = [self.WR, self.bR]\n",
    "        \n",
    "        # set output\n",
    "        self.output = self.sample_h_given_v(self.input)\n",
    "        \n",
    "        # init reconstr, top_down, p to None\n",
    "        self.reconstr = None\n",
    "        self.top_down = None\n",
    "        \n",
    "    def propup(self, v):\n",
    "        return T.nnet.sigmoid(T.dot(v, self.WR) + self.bR)\n",
    "    \n",
    "    def propdown(self, h):\n",
    "        return T.nnet.sigmoid(T.dot(h, self.WG) + self.bG)\n",
    "    \n",
    "    def sample_h_given_v(self, v):\n",
    "        h = self.propup(v)\n",
    "        return self.th_rng.binomial(size=h.shape, n=1, p=h, dtype=theano.config.floatX)\n",
    "    \n",
    "    def sample_v_given_h(self, h):\n",
    "        v = self.propdown(h)\n",
    "        return self.th_rng.binomial(size=v.shape, n=1, p=v, dtype=theano.config.floatX)\n",
    "    \n",
    "    def get_wake_derivs(self):\n",
    "        '''WRITEME'''\n",
    "        # get delta by propagating down with output\n",
    "        delta = self.propdown(self.output)\n",
    "        \n",
    "        # get wake derivatives\n",
    "        dWG = T.dot(self.output.T, (self.input - delta))\n",
    "        dbG = T.mean((self.input - delta), axis=0)\n",
    "        \n",
    "        # if top_layer, no WG derivs\n",
    "        if self.top_layer:\n",
    "            return [dbG]\n",
    "        else:\n",
    "            return dWG, dbG\n",
    "    \n",
    "    def get_sleep_derivs(self):\n",
    "        '''WRITEME'''\n",
    "        # if top_layer, no sleep derivs\n",
    "        if self.top_layer:\n",
    "            return []\n",
    "        \n",
    "        # get psi by propagating up with reconstr\n",
    "        psi = self.propup(self.reconstr)\n",
    "        \n",
    "        # get sleep derivatives\n",
    "        dWR = T.dot(self.reconstr.T, (self.top_down - psi))\n",
    "        dbR = T.mean((self.top_down - psi), axis=0)\n",
    "        return dWR, dbR\n",
    "        \n",
    "    def set_reconstr(self, top_down):\n",
    "        self.top_down = top_down\n",
    "        self.reconstr = self.sample_v_given_h(self.top_down)"
   ]
  },
  {
   "cell_type": "code",
   "execution_count": 546,
   "metadata": {
    "collapsed": false
   },
   "outputs": [],
   "source": [
    "class HelmholtzMachine(object):\n",
    "    '''WRITEME'''\n",
    "    def __init__(self, n_layers, n_ins, th_rng=None):\n",
    "        # init vars\n",
    "        self.n_layers = n_layers\n",
    "        self.n_ins = n_ins\n",
    "        if th_rng is None:\n",
    "            self.th_rng = RandomStreams(np.random.randint(2**30))\n",
    "        else:\n",
    "            self.th_rng = th_rng\n",
    "            \n",
    "        # init first layer input variable\n",
    "        self.v = T.matrix('v')\n",
    "        \n",
    "        # for each layer, append HelmholtzLayer\n",
    "        self.helmholtz_layers = []\n",
    "        for n in range(self.n_layers):\n",
    "            # set bG_1 to True if top layer, False otherwise\n",
    "            is_top_layer = (n == self.n_layers - 1)\n",
    "            # set input_layer\n",
    "            if n == 0:\n",
    "                input_layer = self.v\n",
    "            else:\n",
    "                input_layer = self.helmholtz_layers[-1].output\n",
    "            # set n_out\n",
    "            if is_top_layer:\n",
    "                n_out = 1\n",
    "            else:\n",
    "                n_out = self.n_ins[n+1]\n",
    "            # create helmholtz layer\n",
    "            self.helmholtz_layers.append(HelmholtzLayer(input_layer, \n",
    "                                                         self.n_ins[n], \n",
    "                                                         n_out,\n",
    "                                                         th_rng=self.th_rng,\n",
    "                                                         top_layer=is_top_layer))\n",
    "            \n",
    "        # for each layer, set reconstr\n",
    "        for n in range(self.n_layers-1, -1, -1):\n",
    "            # for top layer, top_down is zeros\n",
    "            if n == self.n_layers-1:\n",
    "                top_down = T.zeros((1,1), dtype=theano.config.floatX)\n",
    "            else:\n",
    "                top_down = self.helmholtz_layers[n+1].reconstr\n",
    "            # set top_down and reconstr\n",
    "            self.helmholtz_layers[n].set_reconstr(top_down)\n",
    "    \n",
    "    def model_sample(self):\n",
    "        return self.helmholtz_layers[0].reconstr[0]\n",
    "    \n",
    "    def KL_part(self, d, D, M):\n",
    "        d0 = 1. - d\n",
    "        D0 = 1. - D\n",
    "        M0 = 1. - M\n",
    "        p_d = T.mean(T.eq(T.dot(d, D.T), T.dot(d, d.T)) * T.eq(T.dot(d0, D0.T), T.dot(d0, d0.T)))\n",
    "        p_m = T.mean(T.eq(T.dot(d, M.T), T.dot(d, d.T)) * T.eq(T.dot(d0, M0.T), T.dot(d0, d0.T)))\n",
    "        return T.mul(p_d, T.sub(T.log(p_d), T.log(p_m + 1e-6)))\n",
    "    \n",
    "    def KL(self):\n",
    "        D = T.matrix('D')\n",
    "        # get model samples\n",
    "        M,_ = theano.scan(self.model_sample, n_steps=D.shape[0])\n",
    "        # get unique probabilities of each data vector\n",
    "        KLs, _ = theano.scan(self.KL_part, sequences=[D], non_sequences=[D, M])\n",
    "        KLs = T.extra_ops.Unique(True)(KLs)[0]\n",
    "        return theano.function([D], T.sum(KLs))\n",
    "    \n",
    "    def MSE(self):\n",
    "        D = T.matrix('D')\n",
    "        M,_ = theano.scan(self.model_sample, n_steps=D.shape[0])\n",
    "        return theano.function([D], T.mean(T.square(D - M)))\n",
    "    \n",
    "    def free_energy_part(self, n):\n",
    "        q = self.helmholtz_layers[n].propup(self.helmholtz_layers[n].input)\n",
    "        p = self.helmholtz_layers[n+1].propdown(self.helmholtz_layers[n+1].output)\n",
    "        return T.sum(T.add(T.mul(q, T.log(q + 1e-6) - T.log(p + 1e-6)),\n",
    "                           T.mul((1. - q), T.log(1. - q + 1e-6) - T.log(1. - p + 1e-6))))\n",
    "    \n",
    "    def free_energy(self):\n",
    "        FEs = []\n",
    "        # for layer 0, q is data, p are reconstructions\n",
    "        q = T.matrix('q')\n",
    "        p = self.helmholtz_layers[0].propdown(self.helmholtz_layers[0].output)\n",
    "        # compute FE part for layer 0\n",
    "        FEs.append(T.sum(T.add(T.mul(q, T.log(q + 1e-6) - T.log(p + 1e-6)),\n",
    "                               T.mul((1. - q), T.log(1. - q + 1e-6) - T.log(1. - p + 1e-6)))))\n",
    "        # compute for all other layers (except top layer)\n",
    "        for n in range(self.n_layers-1):\n",
    "            FEs.append(self.free_energy_part(n))\n",
    "        # return function that can compute FE for given data\n",
    "        return theano.function([q], T.sum(FEs), givens={self.v: q})\n",
    "    \n",
    "    def train_function(self, train_data, batch_size, cost_type='free_energy'):\n",
    "        # init vars\n",
    "        awake = T.iscalar('awake').astype(theano.config.floatX)\n",
    "        lr = [T.scalar('lr_' + str(n)) for n in range(self.n_layers)]\n",
    "        idx = T.iscalar('idx')\n",
    "        v = train_data[idx * batch_size:(idx + 1) * batch_size]  \n",
    "            \n",
    "        # parameter updates for theano function\n",
    "        updates = []\n",
    "        for n in range(self.n_layers):\n",
    "            # wake phase\n",
    "            wake_derivs = self.helmholtz_layers[n].get_wake_derivs()\n",
    "            for param, gparam in zip(self.helmholtz_layers[n].gen_params, wake_derivs):\n",
    "                updates.append((param, param + awake * lr[n] * gparam))\n",
    "            # sleep phase\n",
    "            sleep_derivs = self.helmholtz_layers[n].get_sleep_derivs()\n",
    "            for param, gparam in zip(self.helmholtz_layers[n].rec_params, sleep_derivs):\n",
    "                updates.append((param, param + (1. - awake) * lr[n] * gparam))\n",
    "        \n",
    "        # create train_fn\n",
    "        inputs = [idx, awake] + lr\n",
    "        train_fn = theano.function(inputs, [], updates=updates, givens={self.v: v})\n",
    "        \n",
    "        # set cost_fn\n",
    "        if cost_type == 'KL':\n",
    "            cost_fn = self.KL()\n",
    "        elif cost_type == 'MSE':\n",
    "            cost_fn = self.MSE()\n",
    "        elif cost_type == 'free_energy':\n",
    "            cost_fn = self.free_energy()\n",
    "        else:\n",
    "            cost_fn = None\n",
    "            \n",
    "        return train_fn, cost_fn"
   ]
  },
  {
   "cell_type": "code",
   "execution_count": 544,
   "metadata": {
    "collapsed": false
   },
   "outputs": [
    {
     "name": "stdout",
     "output_type": "stream",
     "text": [
      "... loading data\n"
     ]
    }
   ],
   "source": [
    "data = load_dataset('mnist.pkl.gz')[0][0]"
   ]
  },
  {
   "cell_type": "code",
   "execution_count": 532,
   "metadata": {
    "collapsed": false
   },
   "outputs": [],
   "source": [
    "# create bar data\n",
    "data = np.zeros((1000, 3, 3), dtype=theano.config.floatX)\n",
    "for n in range(data.shape[0]):\n",
    "    # Horizontal bars 1/3, vertical bars 2/3\n",
    "    if np.random.rand() > (2./3.): \n",
    "        data[n, np.random.randint(data.shape[1]), :] = 1.\n",
    "    else:\n",
    "        data[n, :, np.random.randint(data.shape[2])] = 1.\n",
    "data = np.reshape(data, (data.shape[0], -1))\n",
    "data = T.as_tensor(data)"
   ]
  },
  {
   "cell_type": "code",
   "execution_count": 561,
   "metadata": {
    "collapsed": false,
    "scrolled": false
   },
   "outputs": [],
   "source": [
    "# initialize helmholtz machine\n",
    "# th_rng = RandomStreams(1)\n",
    "helm = HelmholtzMachine(3, [784, 512, 128]) #[9,6,1]) # \n",
    "# create training function\n",
    "batch_size = 1\n",
    "train_fn, cost_fn = helm.train_function(data, batch_size, cost_type='free_energy')"
   ]
  },
  {
   "cell_type": "code",
   "execution_count": 562,
   "metadata": {
    "collapsed": false,
    "scrolled": false
   },
   "outputs": [
    {
     "data": {
      "text/plain": [
       "'Epoch 0 (30.00%): 1176216.5000'"
      ]
     },
     "metadata": {},
     "output_type": "display_data"
    },
    {
     "data": {
      "image/png": "[encoded data removed]",
      "text/plain": [
       "<Figure size 432x288 with 1 Axes>"
      ]
     },
     "metadata": {},
     "output_type": "display_data"
    },
    {
     "data": {
      "image/png": "[encoded data removed]",
      "text/plain": [
       "<Figure size 432x288 with 1 Axes>"
      ]
     },
     "metadata": {},
     "output_type": "display_data"
    },
    {
     "ename": "KeyboardInterrupt",
     "evalue": "",
     "output_type": "error",
     "traceback": [
      "\u001b[0;31m---------------------------------------------------------------------------\u001b[0m",
      "\u001b[0;31mKeyboardInterrupt\u001b[0m                         Traceback (most recent call last)",
      "\u001b[0;32m<ipython-input-562-c463b16afad4>\u001b[0m in \u001b[0;36m<module>\u001b[0;34m()\u001b[0m\n\u001b[1;32m     11\u001b[0m     \u001b[0;31m# for each batch_size within n_batches, train\u001b[0m\u001b[0;34m\u001b[0m\u001b[0;34m\u001b[0m\u001b[0m\n\u001b[1;32m     12\u001b[0m     \u001b[0;32mfor\u001b[0m \u001b[0mn\u001b[0m \u001b[0;32min\u001b[0m \u001b[0mrange\u001b[0m\u001b[0;34m(\u001b[0m\u001b[0mn_batches\u001b[0m\u001b[0;34m)\u001b[0m\u001b[0;34m:\u001b[0m\u001b[0;34m\u001b[0m\u001b[0m\n\u001b[0;32m---> 13\u001b[0;31m         \u001b[0mtrain_fn\u001b[0m\u001b[0;34m(\u001b[0m\u001b[0mn\u001b[0m\u001b[0;34m,\u001b[0m \u001b[0;32mTrue\u001b[0m\u001b[0;34m,\u001b[0m \u001b[0;34m*\u001b[0m\u001b[0mlr\u001b[0m\u001b[0;34m)\u001b[0m \u001b[0;31m# wake phase\u001b[0m\u001b[0;34m\u001b[0m\u001b[0m\n\u001b[0m\u001b[1;32m     14\u001b[0m         \u001b[0mtrain_fn\u001b[0m\u001b[0;34m(\u001b[0m\u001b[0mn\u001b[0m\u001b[0;34m,\u001b[0m \u001b[0;32mFalse\u001b[0m\u001b[0;34m,\u001b[0m \u001b[0;34m*\u001b[0m\u001b[0mlr\u001b[0m\u001b[0;34m)\u001b[0m \u001b[0;31m# sleep phase\u001b[0m\u001b[0;34m\u001b[0m\u001b[0m\n\u001b[1;32m     15\u001b[0m \u001b[0;34m\u001b[0m\u001b[0m\n",
      "\u001b[0;32m/Users/theissjd/anaconda/lib/python3.6/site-packages/theano/compile/function_module.py\u001b[0m in \u001b[0;36m__call__\u001b[0;34m(self, *args, **kwargs)\u001b[0m\n\u001b[1;32m    901\u001b[0m         \u001b[0;32mtry\u001b[0m\u001b[0;34m:\u001b[0m\u001b[0;34m\u001b[0m\u001b[0m\n\u001b[1;32m    902\u001b[0m             \u001b[0moutputs\u001b[0m \u001b[0;34m=\u001b[0m\u001b[0;31m\\\u001b[0m\u001b[0;34m\u001b[0m\u001b[0m\n\u001b[0;32m--> 903\u001b[0;31m                 \u001b[0mself\u001b[0m\u001b[0;34m.\u001b[0m\u001b[0mfn\u001b[0m\u001b[0;34m(\u001b[0m\u001b[0;34m)\u001b[0m \u001b[0;32mif\u001b[0m \u001b[0moutput_subset\u001b[0m \u001b[0;32mis\u001b[0m \u001b[0;32mNone\u001b[0m \u001b[0;32melse\u001b[0m\u001b[0;31m\\\u001b[0m\u001b[0;34m\u001b[0m\u001b[0m\n\u001b[0m\u001b[1;32m    904\u001b[0m                 \u001b[0mself\u001b[0m\u001b[0;34m.\u001b[0m\u001b[0mfn\u001b[0m\u001b[0;34m(\u001b[0m\u001b[0moutput_subset\u001b[0m\u001b[0;34m=\u001b[0m\u001b[0moutput_subset\u001b[0m\u001b[0;34m)\u001b[0m\u001b[0;34m\u001b[0m\u001b[0m\n\u001b[1;32m    905\u001b[0m         \u001b[0;32mexcept\u001b[0m \u001b[0mException\u001b[0m\u001b[0;34m:\u001b[0m\u001b[0;34m\u001b[0m\u001b[0m\n",
      "\u001b[0;31mKeyboardInterrupt\u001b[0m: "
     ]
    }
   ],
   "source": [
    "# train\n",
    "lr = [0.001]*helm.n_layers\n",
    "n_batches = data.eval().shape[0]//batch_size\n",
    "monitor = data.eval().shape[0]//10\n",
    "cost_history = []\n",
    "im_size = (28,28)\n",
    "\n",
    "# train in epochs\n",
    "for epoch in range(50):\n",
    "    cost = []\n",
    "    # for each batch_size within n_batches, train\n",
    "    for n in range(n_batches):\n",
    "        train_fn(n, True, *lr) # wake phase\n",
    "        train_fn(n, False, *lr) # sleep phase\n",
    "        \n",
    "        # monitor samples\n",
    "        if n % monitor == 0:\n",
    "            # get cost\n",
    "            rand_idxs = np.random.permutation(data.eval().shape[0])\n",
    "            cost.append(cost_fn(data[rand_idxs[:monitor]].eval()))\n",
    "            # print progress\n",
    "            clear_output(wait=True)\n",
    "            display('Epoch %d (%0.2f%%): %0.4f' % (epoch, 100. * n/n_batches, np.mean(cost)))\n",
    "            # plot sample from model\n",
    "            plt.imshow(helm.model_sample().eval().reshape(im_size), cmap='gray')\n",
    "            plt.show()\n",
    "            # plot cost history\n",
    "            plt.plot(cost_history)\n",
    "            plt.show()\n",
    "    # append cost history\n",
    "    cost_history.append(np.mean(cost))"
   ]
  },
  {
   "cell_type": "code",
   "execution_count": 376,
   "metadata": {
    "collapsed": true
   },
   "outputs": [
    {
     "data": {
      "image/png": "[encoded data removed]",
      "text/plain": [
       "<Figure size 432x288 with 1 Axes>"
      ]
     },
     "metadata": {},
     "output_type": "display_data"
    }
   ],
   "source": [
    "plt.imshow(helm.model_sample().eval().reshape(im_size), cmap='gray')\n",
    "plt.show()"
   ]
  }
 ],
 "metadata": {
  "kernelspec": {
   "display_name": "Python 3",
   "language": "python",
   "name": "python3"
  },
  "language_info": {
   "codemirror_mode": {
    "name": "ipython",
    "version": 3
   },
   "file_extension": ".py",
   "mimetype": "text/x-python",
   "name": "python",
   "nbconvert_exporter": "python",
   "pygments_lexer": "ipython3",
   "version": "3.6.0"
  }
 },
 "nbformat": 4,
 "nbformat_minor": 2
}
